{
 "cells": [
  {
   "cell_type": "code",
   "execution_count": 1,
   "id": "c889ebab-c06a-4112-9b1f-81c4a4280180",
   "metadata": {},
   "outputs": [],
   "source": [
    "import numpy as np\n",
    "import pandas as pd\n",
    "from sklearn import model_selection\n",
    "from sklearn.model_selection import train_test_split, StratifiedKFold\n",
    "from sklearn import preprocessing\n",
    "import seaborn as sns\n",
    "from sklearn.preprocessing import OneHotEncoder\n",
    "from sklearn import linear_model\n",
    "from sklearn.ensemble import AdaBoostClassifier\n",
    "from sklearn.tree import DecisionTreeClassifier\n",
    "from sklearn.ensemble import BaggingClassifier\n",
    "from sklearn import ensemble\n",
    "from sklearn.metrics import f1_score, accuracy_score, precision_score, recall_score\n",
    "import matplotlib.pyplot as plt\n",
    "from sklearn.metrics import classification_report\n",
    "import xgboost as xgb\n",
    "from sklearn.ensemble import VotingClassifier\n",
    "from sklearn import neighbors\n",
    "\n",
    "%matplotlib inline\n",
    "\n",
    "\n",
    "\n",
    "\n",
    "# This function helps us discretize our target variable - which is useful for a variety of learning algorithms\n",
    "# Default(4) will devide into quartiles (0%-25%,25%-50%,50%-75%,75%-100%)\n",
    "def discretize(series, n_disections=4):\n",
    "    describe = np.linspace(0,1,n_disections+1)[:-1][1:]\n",
    "    disection = series.describe(describe)\n",
    "    disection=disection.drop(labels=['count','std','mean'])\n",
    "    if 0.5 not in describe:\n",
    "        disection=disection.drop(labels=['50%'])\n",
    "    bins=disection.values\n",
    "    dict = {}\n",
    "    disection=disection.drop(labels=['max'])\n",
    "    dict_labels = disection.index.values\n",
    "    for pos,lbl in enumerate(dict_labels):\n",
    "        if pos==0:\n",
    "            dict[pos]='0%-'+dict_labels[1]\n",
    "        else:\n",
    "            dict[pos]=lbl+'+'\n",
    "    return bins,dict\n",
    "\n",
    "\n",
    "cl_dict={}\n",
    "\n",
    "def show_scores(y_test, y_pred):\n",
    "    accuracy = accuracy_score(y_test, y_pred)\n",
    "    print(\"Accuracy:\", accuracy)\n",
    "    # precision = precision_score(y_test, y_pred)\n",
    "    # print(\"Precision:\", precision)\n",
    "    # recall = recall_score(y_test, y_pred)\n",
    "    # print(\"Recall (Sensitivity):\", recall)\n",
    "    f1 = f1_score(y_test, y_pred, average='macro')\n",
    "    print(\"F1-Score:\", f1)\n",
    "    print(\"Precision:\", precision_score(y_test, y_pred, average='macro'))\n",
    "    print(\"Recall:\", recall_score(y_test, y_pred, average='macro'))\n",
    "          \n",
    "\n",
    "def scale_train_test_split(df):\n",
    "    data = df.drop('Specific CO2 Emissions in g/km (WLTP)', axis=1)\n",
    "    target = df['Specific CO2 Emissions in g/km (WLTP)']\n",
    "    X_train, X_test, y_train, y_test = train_test_split(data, target, test_size=0.2, random_state=66)\n",
    "    scaler = preprocessing.StandardScaler().fit(X_train)\n",
    "    X_train_scaled = scaler.transform(X_train)\n",
    "    X_test_scaled = scaler.transform(X_test)\n",
    "    return X_train_scaled, X_test_scaled, y_train, y_test\n",
    "\n",
    "#  TO TEST\n",
    "# def frac_scale2_train_test_split(df,fraction=1):\n",
    "#     df_fraction = df.sample(frac=fraction)\n",
    "#     data = df_fraction.drop('Specific CO2 Emissions in g/km (WLTP)', axis=1)\n",
    "#     target = df_fraction['Specific CO2 Emissions in g/km (WLTP)']\n",
    "#     X_train, X_test, y_train, y_test = train_test_split(data, target, test_size=0.2, random_state=66)\n",
    "#     scaler = preprocessing.StandardScaler()\n",
    "#     X_train[X_train.columns] = pd.DataFrame(scaler.fit_transform(X_train), index=X_train.index)\n",
    "#     X_test[X_test.columns] = pd.DataFrame(scaler.transform(X_test), index=X_test.index)\n",
    "#     return X_train, X_test, y_train, y_test\n",
    "\n",
    "# This helps us display the CT with meaningful namings for the classes.\n",
    "# We assume cl_dict was already populated\n",
    "def display_ct(y_test, y_pred):\n",
    "    cm = pd.crosstab(y_test, y_pred, rownames=['Real Class'], colnames=['Predicted Class'])\n",
    "    cm = cm.rename(cl_dict, axis=0)\n",
    "    cm = cm.rename(cl_dict, axis=1)\n",
    "    print('\\nCroostab:')\n",
    "    display(cm)\n",
    "    print('\\nClassification report:')\n",
    "    print(classification_report(y_test, y_pred))\n",
    "    \n",
    "def has_it(it, n):\n",
    "    if not it:\n",
    "        return False\n",
    "    it_factors = (str(it).split(\" \"))\n",
    "    for f in it_factors:\n",
    "        if f and f[0]=='e':\n",
    "            f = f[1:]\n",
    "        if(f == str(n)):\n",
    "            return True\n",
    "    return False\n"
   ]
  },
  {
   "cell_type": "markdown",
   "id": "7e6b3425-59d1-4213-a820-b61db5939468",
   "metadata": {},
   "source": [
    "## Data reading:\n",
    "Since the reading of the file can take very long, we help Pandas by:\n",
    "- Selecting only the columns we want (**usecols**)\n",
    "- Specifying the type of each columns"
   ]
  },
  {
   "cell_type": "code",
   "execution_count": 2,
   "id": "b0ccc1b7-b83a-45d5-a683-25c301275e11",
   "metadata": {},
   "outputs": [],
   "source": [
    "usecols=[\n",
    "    # 'Mass in running order (kg)',\n",
    "    'ID',\n",
    "    #'Commercial name',\n",
    "    'WLTP test mass',\n",
    "    'Specific CO2 Emissions in g/km (WLTP)',\n",
    "    'Fuel type',\n",
    "    'Type approval number',\n",
    "    'Engine capacity in cm3',\n",
    "    'Engine power in KW',\n",
    "    'Category of the vehicle type approved',\n",
    "    'Innovative technology',\n",
    "    'Emissions reduction through innovative technologies in g/km (WLTP)',\n",
    "    'Wheel base in mm',\n",
    "    'Axle width other axle in mm',\n",
    "    'Fuel consumption',\n",
    "    'Pool',\n",
    "    #'Reg Date'\n",
    "]\n",
    "dtype = {\n",
    "    'ID':int,\n",
    "    'Country':object,\n",
    "    'Vehicle family identification number': object,\n",
    "    'Pool':object,\n",
    "    'Manufacturer name EU': object,\n",
    "    'Manufacturer name OEM':object,\n",
    "    'Manufacturer name MS':float,\n",
    "    'Type approval number':object,\n",
    "    'Type':object,\n",
    "    'Variant':object,\n",
    "    'Version':object,\n",
    "    'Make':object,\n",
    "    'Commercial name':object,\n",
    "    'Category of the vehicle type approved':object,\n",
    "    'Category of the vehicle registered':object,\n",
    "    'Total new registrations':int,\n",
    "    'Mass in running order (kg)':float,\n",
    "    'WLTP test mass':float,\n",
    "    'Specific CO2 Emissions in g/km (NEDC)':float,\n",
    "    'Specific CO2 Emissions in g/km (WLTP)':int,\n",
    "    'Wheel base in mm,Axle width steering axle in mm':float,\n",
    "    'Axle width other axle in mm':float,\n",
    "    'Fuel type':object,\n",
    "    'Fuel mode':object,\n",
    "    'Engine capacity in cm3':float,\n",
    "    'Engine power in KW':float,\n",
    "    'Electric energy consumption in Wh/km)':float,\n",
    "    'Innovative technology':object,\n",
    "    'Emissions reduction through innovative technologies in g/km':float,\n",
    "    'Emissions reduction through innovative technologies in g/km (WLTP)':float,\n",
    "    'Deviation factor':float,\n",
    "    'Verification factor':float,\n",
    "    'Status (Type of data)':object,\n",
    "    'Reg year':int,\n",
    "    'Reg Date':object,\n",
    "    'Fuel consumption':float,\n",
    "    'ech':float,\n",
    "    'Roadload family’s identifier':float,\n",
    "    'Electric range (km)':float\n",
    "}\n",
    "\n",
    "\n"
   ]
  },
  {
   "cell_type": "code",
   "execution_count": 3,
   "id": "15b87957-7a07-4b9f-b54c-c445eba5285a",
   "metadata": {},
   "outputs": [],
   "source": [
    "df_orig = pd.read_csv('../../all_2022.csv',usecols=usecols,dtype=dtype, index_col=0)"
   ]
  },
  {
   "cell_type": "code",
   "execution_count": 4,
   "id": "2309f405-5ca1-498e-96e6-346837636e02",
   "metadata": {},
   "outputs": [],
   "source": [
    "df=df_orig.copy()"
   ]
  },
  {
   "cell_type": "markdown",
   "id": "4fd486eb-dcf3-4474-8b00-c879e5de0350",
   "metadata": {},
   "source": [
    "## Pre-processing:\n",
    "Since the reading of the file can take very long, we help Pandas by:\n",
    "- Remove electric fuel types\n",
    "- Remove vans\n",
    "- Get has_LED\n",
    "- Get is_old_vehicle\n",
    "- Remove unneeded columns\n",
    "- Remove outliers on the target variable"
   ]
  },
  {
   "cell_type": "code",
   "execution_count": 5,
   "id": "c566c346-024a-41f7-9203-74c029136d97",
   "metadata": {},
   "outputs": [],
   "source": [
    "# Lower casing fuel types\n",
    "f_types = df['Fuel type'].value_counts().index.values\n",
    "for ft in f_types:\n",
    "    if ft.lower() != ft:\n",
    "        df.loc[df['Fuel type']==ft,'Fuel type'] = ft.lower()"
   ]
  },
  {
   "cell_type": "code",
   "execution_count": 6,
   "id": "13d6c4c3-47b8-4845-a862-6b8f9d86b3dd",
   "metadata": {},
   "outputs": [],
   "source": [
    "# Getting rid of electrics\n",
    "df = df.loc[df['Fuel type'].isin(['ng','lpg','petrol','diesel', 'e85'])]\n",
    "# Pick only 'M1' and 'M1G' vehicles\n",
    "df = df.loc[df['Category of the vehicle type approved'].isin(['M1','M1G'])]\n",
    "#df=df.drop(columns=['Category of the vehicle type approved'])\n",
    "# Dropping vehicles without a 'Type approval number'\n",
    "df = df.dropna(subset=['Type approval number'])"
   ]
  },
  {
   "cell_type": "code",
   "execution_count": 7,
   "id": "bbe3491c-8ffc-4588-9577-f9798fa8fcc2",
   "metadata": {},
   "outputs": [],
   "source": [
    "def extract_reg(approval):\n",
    "    parts = approval.split('*')\n",
    "    if len(parts) < 2:\n",
    "        return None\n",
    "    return parts[1].lower()\n",
    "\n",
    "\n",
    "df['reg_num']=df['Type approval number'].apply(lambda x: extract_reg(x))"
   ]
  },
  {
   "cell_type": "code",
   "execution_count": 8,
   "id": "160fef64-26fe-4b3e-b78b-49986cdeac3a",
   "metadata": {},
   "outputs": [],
   "source": [
    "# We only care about the first 5\n",
    "df=df[df['reg_num'].isin(df['reg_num'].value_counts().head(5).index)]"
   ]
  },
  {
   "cell_type": "code",
   "execution_count": 9,
   "id": "8d3523d0-4f6c-4831-b7b8-5595711420ef",
   "metadata": {},
   "outputs": [],
   "source": [
    "# An old vehicle would be a vehicle approved under 2001/116, before 2008\n",
    "df['is_old_vehicle']=np.where(df['reg_num'].isin(['2001/116', '98/14']), 1, 0)"
   ]
  },
  {
   "cell_type": "code",
   "execution_count": 10,
   "id": "b5ffadfc-175a-4650-b916-e7821c0e1746",
   "metadata": {},
   "outputs": [],
   "source": [
    "def has_it(it, n):\n",
    "    if not it:\n",
    "        return False\n",
    "    it_factors = (str(it).split(\" \"))\n",
    "    for f in it_factors:\n",
    "        if f and f[0]=='e':\n",
    "            f = f[1:]\n",
    "        if(f == str(n)):\n",
    "            return 1\n",
    "    return 0\n",
    "\n",
    "# dropping rouge rows having no innovative technology but still having emission reduction from innovative technology\n",
    "df=df.drop(df[(df['Emissions reduction through innovative technologies in g/km (WLTP)'] > 0) & (df['Innovative technology'].isna())].index)\n",
    "# Parsing for LED\n",
    "for n in [28,37]:\n",
    "    df['e'+str(n)]= df['Innovative technology'].apply(lambda it: has_it(it, n))\n",
    "\n",
    "# Records which recorded both of them are rogue records, we drop them\n",
    "df=df.drop(df[(df['e28']==True) & (df['e37']==True)].index)\n",
    "# Then unite them together into 'e37', dropping 'e28'\n",
    "df['e37']=np.where((df['e28']==True) | (df['e37']==True),1, 0)\n",
    "df = df.drop(columns=['e28'])\n",
    "# Count num of WLTP techs\n",
    "# Dropping a few other rogue columns in which the Innovative Technology was not registered per the format standard\n",
    "df['has_LED']=np.where(df['e37']==True,1, 0)\n",
    "df=df.drop(columns=['e37'])\n",
    "# Diesel is the most emitting fuel type, we'll try to add it as a possible factor for the model\n"
   ]
  },
  {
   "cell_type": "code",
   "execution_count": 11,
   "id": "fd8aa441-5af9-480b-9770-3b9baab5b962",
   "metadata": {},
   "outputs": [],
   "source": [
    "#df['is_M1']=np.where(df['Category of the vehicle type approved']=='M1',1, 0)\n",
    "#df['is_diesel']=np.where(df['Fuel type']=='diesel',1, 0)\n",
    "#df = df.join(pd.get_dummies(df['Pool'], prefix='p_'))\n",
    "#df = df.join(pd.get_dummies(df['Country'], prefix='c_'))\n",
    "#df=df.drop(columns=['Pool', 'Country', 'Category of the vehicle type approved'])"
   ]
  },
  {
   "cell_type": "code",
   "execution_count": 12,
   "id": "60482662-8519-45fb-811d-48a5a8f2395d",
   "metadata": {},
   "outputs": [],
   "source": [
    "df_numeric = df.select_dtypes(['int64','float64','bool'])\n",
    "df_numeric=df_numeric.dropna()\n"
   ]
  },
  {
   "cell_type": "code",
   "execution_count": 13,
   "id": "d6084d12-e99c-4f19-b78b-5bbcecb8326d",
   "metadata": {},
   "outputs": [],
   "source": [
    "def remove_outliers_iqr(data, threshold=1.5):\n",
    "    q1 = np.percentile(data, 25)\n",
    "    q3 = np.percentile(data, 75)\n",
    "    iqr = q3 - q1\n",
    "    lower_bound = q1 - threshold * iqr\n",
    "    upper_bound = q3 + threshold * iqr\n",
    "    outliers_removed = data[(data >= lower_bound) & (data <= upper_bound)]\n",
    "    return outliers_removed\n",
    "\n",
    "df_numeric['Specific CO2 Emissions in g/km (WLTP)']=remove_outliers_iqr(df_numeric['Specific CO2 Emissions in g/km (WLTP)'])\n",
    "df_numeric=df_numeric.dropna()"
   ]
  },
  {
   "cell_type": "markdown",
   "id": "ea4c96e7-1504-476e-8777-f772a5de32bd",
   "metadata": {},
   "source": [
    "**Discretizing the target variable so we can implements several learners that depend on it**"
   ]
  },
  {
   "cell_type": "code",
   "execution_count": 14,
   "id": "b94cc932-7894-404e-a9a8-e44ad2b95acd",
   "metadata": {},
   "outputs": [],
   "source": [
    "\n",
    "bins,cl_dict = discretize(df_numeric['Specific CO2 Emissions in g/km (WLTP)'], 10)\n",
    "                       \n",
    "    \n",
    "WLTP_cut = pd.cut(df_numeric['Specific CO2 Emissions in g/km (WLTP)'],include_lowest=True, bins=bins, labels=cl_dict.keys())\n",
    "df_numeric = df_numeric.merge(WLTP_cut, left_index=True, right_index=True)\n",
    "df_numeric = df_numeric.drop(columns='Specific CO2 Emissions in g/km (WLTP)_x', axis = 1)\n",
    "df_numeric = df_numeric.rename({'Specific CO2 Emissions in g/km (WLTP)_y' : 'Specific CO2 Emissions in g/km (WLTP)'}, axis=1)"
   ]
  },
  {
   "cell_type": "markdown",
   "id": "fa0b027f-8b0d-4e77-9f79-ec3a360514f4",
   "metadata": {},
   "source": [
    "# Modelization"
   ]
  },
  {
   "cell_type": "markdown",
   "id": "bb44d40c-d74b-4461-abd0-5072b57dd728",
   "metadata": {},
   "source": [
    "## Random Forests"
   ]
  },
  {
   "cell_type": "code",
   "execution_count": 15,
   "id": "66a6787b-5b56-4f4a-9c46-51783e91db88",
   "metadata": {},
   "outputs": [],
   "source": [
    "\n",
    "# X_train_scaled, X_test_scaled, y_train, y_test = scale_train_test_split(df_numeric.sample(n=90000))\n",
    "\n",
    "# clf_rf = ensemble.RandomForestClassifier(n_jobs=-1, random_state=66)\n",
    "\n",
    "# criterion = ['gini', 'entropy']        # what criteria to consider\n",
    "# n_estimators = [300, 350, 400]       # Number of trees in random forest\n",
    "# max_features = ['log2', 'sqrt']       # Number of features to consider at every split\n",
    "# max_depth = [20, None]      # Maximum number of levels in tree. Hope you remember linspace function from numpy session\n",
    "\n",
    "# params = {'criterion': criterion,\n",
    "#           'max_features': max_features,\n",
    "#           'n_estimators': n_estimators,\n",
    "#           'max_depth': max_depth}\n",
    "\n",
    "\n",
    "\n",
    "# grid_clf_rf = model_selection.GridSearchCV(clf_rf, params, cv=5, scoring = ['accuracy', 'f1_macro'], refit='accuracy', verbose=True, n_jobs=-1)\n",
    "\n",
    "# grille_rf = grid_clf_rf.fit(X_train_scaled,y_train)\n",
    "\n",
    "# display(pd.DataFrame.from_dict(grille_rf.cv_results_).sort_values(by=['mean_test_accuracy', 'mean_test_f1_macro'],ascending=[False,False]).head(5).loc[:,['params', 'mean_test_f1_macro', 'mean_test_accuracy', 'std_test_f1_macro', 'std_test_accuracy']])\n",
    "# print(\"Best hyperparameters: \", grille_rf.best_params_)\n"
   ]
  },
  {
   "cell_type": "code",
   "execution_count": 16,
   "id": "e0d66fe4-15a5-4371-9740-cabb3ebc4537",
   "metadata": {},
   "outputs": [
    {
     "name": "stdout",
     "output_type": "stream",
     "text": [
      "Train Score: 0.98822625\n",
      "Accuracy: 0.98258\n",
      "F1-Score: 0.9825312879694209\n",
      "Precision: 0.9825068934290492\n",
      "Recall: 0.9825760897796109\n"
     ]
    }
   ],
   "source": [
    "X_train_scaled, X_test_scaled, y_train, y_test = scale_train_test_split(df_numeric.sample(n=2000000))\n",
    "\n",
    "rf_best = ensemble.RandomForestClassifier(n_jobs=-1, random_state=66, criterion='entropy', max_depth=None, max_features='log2', n_estimators=350)\n",
    "\n",
    "rf_best.fit(X_train_scaled,y_train)\n",
    "print('Train Score:',rf_best.score(X_train_scaled, y_train))\n",
    "y_pred = rf_best.predict(X_test_scaled)\n",
    "show_scores(y_test,y_pred)"
   ]
  },
  {
   "cell_type": "code",
   "execution_count": 17,
   "id": "456b0a70-c72c-4567-ae24-36962c268f4c",
   "metadata": {},
   "outputs": [
    {
     "data": {
      "image/png": "[encoded data removed]",
      "text/plain": [
       "<Figure size 640x480 with 1 Axes>"
      ]
     },
     "metadata": {},
     "output_type": "display_data"
    }
   ],
   "source": [
    "feat_importances = pd.Series(\n",
    "    rf_best.feature_importances_,df_numeric.drop(columns=['Specific CO2 Emissions in g/km (WLTP)']).columns)\n",
    "feat_importances.nlargest(15).plot(kind='barh');"
   ]
  },
  {
   "cell_type": "markdown",
   "id": "113d5ab0-e217-4152-937a-9192305612f2",
   "metadata": {},
   "source": [
    "## DTC+Boosting"
   ]
  },
  {
   "cell_type": "code",
   "execution_count": 18,
   "id": "d20980a4-8eed-4505-8bf4-30b0baa2663f",
   "metadata": {},
   "outputs": [],
   "source": [
    "# X_train_scaled, X_test_scaled, y_train, y_test = scale_train_test_split(df_numeric.sample(n=90000))\n",
    "# dtc = DecisionTreeClassifier(random_state=66)\n",
    "\n",
    "# param_grid = {'criterion':[\"gini\",\"entropy\"],\n",
    "# 'max_depth': [15, 20, 25, None],\n",
    "# 'min_samples_leaf': [15, 25, 30],\n",
    "# 'min_samples_split': [15, 20,30]}\n",
    "\n",
    "\n",
    "# grid_clf_dtc = model_selection.GridSearchCV(dtc, param_grid, cv=5, scoring = ['accuracy', 'f1_macro'], refit='accuracy', verbose=1, n_jobs=-1)\n",
    "\n",
    "# grille_dtc = grid_clf_dtc.fit(X_train_scaled,y_train)\n",
    "\n",
    "# display(pd.DataFrame.from_dict(grille_dtc.cv_results_).sort_values(by=['mean_test_accuracy', 'mean_test_f1_macro'],ascending=[False,False]).head(5).loc[:,['params', 'mean_test_f1_macro', 'mean_test_accuracy', 'std_test_f1_macro', 'std_test_accuracy']])\n",
    "# print(\"Best hyperparameters: \", grille_dtc.best_params_)\n"
   ]
  },
  {
   "cell_type": "code",
   "execution_count": 19,
   "id": "7c44b60a-ab4d-4ae5-af7e-e0095014ef32",
   "metadata": {},
   "outputs": [
    {
     "name": "stdout",
     "output_type": "stream",
     "text": [
      "Train Score: 0.97937\n",
      "Accuracy: 0.9775125\n",
      "F1-Score: 0.9774309975914722\n",
      "Precision: 0.9774266188421029\n",
      "Recall: 0.9774634583074793\n"
     ]
    }
   ],
   "source": [
    "X_train_scaled, X_test_scaled, y_train, y_test = scale_train_test_split(df_numeric.sample(n=2000000))\n",
    "dtc = DecisionTreeClassifier(random_state=66, criterion='entropy', max_depth=20, min_samples_leaf=15, min_samples_split=15)\n",
    "\n",
    "dtc.fit(X_train_scaled, y_train)\n",
    "print('Train Score:',dtc.score(X_train_scaled, y_train))\n",
    "\n",
    "y_pred = dtc.predict(X_test_scaled)\n",
    "show_scores(y_test,y_pred)\n",
    "#display_ct(y_test, y_pred)"
   ]
  },
  {
   "cell_type": "code",
   "execution_count": 20,
   "id": "bd917afb-9e72-494d-bc73-2440b5418e14",
   "metadata": {},
   "outputs": [],
   "source": [
    "# X_train_scaled, X_test_scaled, y_train, y_test = scale_train_test_split(df_numeric.sample(n=90000))\n",
    "\n",
    "# dtc2 = DecisionTreeClassifier(random_state=66, criterion='entropy', max_depth=20, min_samples_leaf=15, min_samples_split=15)\n",
    "# ac2 = AdaBoostClassifier(estimator=dtc2, random_state=66, algorithm='SAMME')\n",
    "\n",
    "# parameters = {\n",
    "#     'n_estimators': [50, 100, 200],\n",
    "#     'learning_rate': [(0.97 + x / 100) for x in range(0, 8)]\n",
    "# }\n",
    "\n",
    "# grid_clf_ac = model_selection.GridSearchCV(ac2, parameters, cv=5, scoring = ['accuracy', 'f1_macro'], refit='accuracy', verbose=1, n_jobs=-1)\n",
    "\n",
    "# grille_ac = grid_clf_ac.fit(X_train_scaled,y_train)\n",
    "\n",
    "# display(pd.DataFrame.from_dict(grille_ac.cv_results_).sort_values(by=['mean_test_accuracy', 'mean_test_f1_macro'],ascending=[False,False]).head(5).loc[:,['params', 'mean_test_f1_macro', 'mean_test_accuracy', 'std_test_f1_macro', 'std_test_accuracy']])\n",
    "# print(\"Best hyperparameters: \", grille_ac.best_params_)"
   ]
  },
  {
   "cell_type": "code",
   "execution_count": 21,
   "id": "068aaa0e-fbfc-4807-9d3d-04eb194e6400",
   "metadata": {},
   "outputs": [
    {
     "name": "stdout",
     "output_type": "stream",
     "text": [
      "Train Score: 0.98683\n",
      "Accuracy: 0.981755\n",
      "F1-Score: 0.981699847042696\n",
      "Precision: 0.9817043108017257\n",
      "Recall: 0.9817118379491419\n"
     ]
    }
   ],
   "source": [
    "X_train_scaled, X_test_scaled, y_train, y_test = scale_train_test_split(df_numeric.sample(n=2000000))\n",
    "\n",
    "ac_best = AdaBoostClassifier(estimator=dtc, random_state=66, algorithm='SAMME', n_estimators=50, learning_rate=1.01)\n",
    "\n",
    "ac_best.fit(X_train_scaled, y_train)\n",
    "\n",
    "print('Train Score:',ac_best.score(X_train_scaled, y_train))\n",
    "\n",
    "y_pred = ac_best.predict(X_test_scaled)\n",
    "show_scores(y_test,y_pred)"
   ]
  },
  {
   "cell_type": "markdown",
   "id": "b3a55dbf-a651-45d1-8f1d-39b57b1ed6bc",
   "metadata": {},
   "source": [
    "## KNN"
   ]
  },
  {
   "cell_type": "code",
   "execution_count": 22,
   "id": "37a16beb-fc92-486f-b6f7-2eb5fc21fe13",
   "metadata": {},
   "outputs": [
    {
     "name": "stdout",
     "output_type": "stream",
     "text": [
      "Train Score: 0.98387375\n",
      "Accuracy: 0.97993\n",
      "F1-Score: 0.9798564549322386\n",
      "Precision: 0.979943251870897\n",
      "Recall: 0.9797756473750013\n"
     ]
    }
   ],
   "source": [
    "knn_clf = neighbors.KNeighborsClassifier(n_neighbors=3, metric='minkowski')\n",
    "\n",
    "knn_clf.fit(X_train_scaled, y_train)\n",
    "\n",
    "print('Train Score:',knn_clf.score(X_train_scaled, y_train))\n",
    "\n",
    "y_pred = knn_clf.predict(X_test_scaled)\n",
    "show_scores(y_test,y_pred)\n",
    "#display_ct(y_test, y_pred)"
   ]
  },
  {
   "cell_type": "code",
   "execution_count": 23,
   "id": "f39d95de-2de2-4ee2-847b-5b04d09a0868",
   "metadata": {},
   "outputs": [],
   "source": [
    "# X_train_scaled, X_test_scaled, y_train, y_test = scale_train_test_split(df_numeric.sample(n=90000))\n",
    "\n",
    "# xgb_clf = xgb.XGBClassifier(n_jobs=-1, random_state=66)\n",
    "\n",
    "# param_grid = {\n",
    "#     'max_depth': [15, 20, 25, None],\n",
    "#     'learning_rate': [0.1, 0.15, 0.2],\n",
    "#     'subsample': [0.5, 0.7, 1]\n",
    "# }\n",
    "\n",
    "# grid_clf_xgb = model_selection.GridSearchCV(xgb_clf, param_grid, cv=5, scoring = ['accuracy', 'f1_macro'], refit='accuracy', verbose=True)\n",
    "\n",
    "# grille_xgb = grid_clf_xgb.fit(X_train_scaled,y_train)\n",
    "\n",
    "# display(pd.DataFrame.from_dict(grille_xgb.cv_results_).sort_values(by=['mean_test_accuracy', 'mean_test_f1_macro'],ascending=[False,False]).head(5).loc[:,['params', 'mean_test_f1_macro', 'mean_test_accuracy', 'std_test_f1_macro', 'std_test_accuracy']])\n",
    "# print(\"Best hyperparameters: \", grille_xgb.best_params_)\n"
   ]
  },
  {
   "cell_type": "code",
   "execution_count": 24,
   "id": "6c802707-e40c-4486-8af4-a795f0bf5252",
   "metadata": {},
   "outputs": [
    {
     "name": "stdout",
     "output_type": "stream",
     "text": [
      "Train Score: 0.9824825\n",
      "Accuracy: 0.9786325\n",
      "F1-Score: 0.9785493943641687\n",
      "Precision: 0.9785689911360009\n",
      "Recall: 0.9785460297657037\n"
     ]
    }
   ],
   "source": [
    "X_train_scaled, X_test_scaled, y_train, y_test = scale_train_test_split(df_numeric.sample(n=2000000))\n",
    "xgb_best = xgb.XGBClassifier(n_jobs=-1, random_state=66, max_depth=20, learning_rate=0.2, subsample=0.7)\n",
    "\n",
    "xgb_best.fit(X_train_scaled,y_train)\n",
    "\n",
    "print('Train Score:',xgb_best.score(X_train_scaled, y_train))\n",
    "\n",
    "y_pred = xgb_best.predict(X_test_scaled)\n",
    "show_scores(y_test,y_pred)\n",
    "#display_ct(y_test, y_pred)"
   ]
  },
  {
   "cell_type": "markdown",
   "id": "a8e0a554-461c-43c7-b34e-fd4b2f6a99aa",
   "metadata": {},
   "source": [
    "## Bagging"
   ]
  },
  {
   "cell_type": "code",
   "execution_count": 25,
   "id": "4750943f-325c-4492-8c6e-64ad09681f91",
   "metadata": {},
   "outputs": [],
   "source": [
    "# X_train_scaled, X_test_scaled, y_train, y_test = scale_train_test_split(df_numeric.sample(n=50000))\n",
    "\n",
    "# bag_clf = BaggingClassifier(random_state=66, oob_score=True)\n",
    "\n",
    "# parameters = {\n",
    "#     'max_samples': [0.95],\n",
    "#     'n_estimators': [200],\n",
    "#     'max_features': [0.92, 0.95, 0.98],\n",
    "#     'bootstrap_features':[False]\n",
    "# }\n",
    "\n",
    "# grid_clf_bag = model_selection.GridSearchCV(bag_clf, parameters, cv=5, scoring = ['accuracy', 'f1_macro'], refit='accuracy', verbose=1, n_jobs=-1)\n",
    "\n",
    "# grille_bag = grid_clf_bag.fit(X_train_scaled,y_train)\n",
    "\n",
    "# display(pd.DataFrame.from_dict(grille_bag.cv_results_).sort_values(by=['mean_test_accuracy', 'mean_test_f1_macro'],ascending=[False,False]).head(5).loc[:,['params', 'mean_test_f1_macro', 'mean_test_accuracy', 'std_test_f1_macro', 'std_test_accuracy']])\n",
    "# print(\"Best hyperparameters: \", grille_bag.best_params_)"
   ]
  },
  {
   "cell_type": "code",
   "execution_count": 26,
   "id": "d4050ec0-5667-45c4-8450-80059f63a176",
   "metadata": {},
   "outputs": [
    {
     "name": "stdout",
     "output_type": "stream",
     "text": [
      "Train Score: 0.988068125\n",
      "Accuracy: 0.9831625\n",
      "F1-Score: 0.9831010226261144\n",
      "Precision: 0.9831216497830286\n",
      "Recall: 0.9831070871870755\n"
     ]
    }
   ],
   "source": [
    "X_train_scaled, X_test_scaled, y_train, y_test = scale_train_test_split(df_numeric.sample(n=2000000))\n",
    "\n",
    "bag_best = BaggingClassifier(max_features=0.92, max_samples=0.95, bootstrap_features=False, oob_score=True, random_state=66, n_estimators=200)\n",
    "bag_best.fit(X_train_scaled,y_train)\n",
    "\n",
    "print('Train Score:',bag_best.score(X_train_scaled, y_train))\n",
    "\n",
    "y_pred = bag_best.predict(X_test_scaled)\n",
    "show_scores(y_test,y_pred)\n",
    "#display_ct(y_test, y_pred)"
   ]
  },
  {
   "cell_type": "markdown",
   "id": "09d1bae1-a8d4-413f-bf18-ffbb5fe83d0e",
   "metadata": {},
   "source": [
    "## Voting"
   ]
  },
  {
   "cell_type": "code",
   "execution_count": 27,
   "id": "dee41368-40dc-4263-a089-b45f4425bf69",
   "metadata": {},
   "outputs": [
    {
     "name": "stdout",
     "output_type": "stream",
     "text": [
      "[Voting] ................... (1 of 5) Processing dtc_ac, total= 3.5min\n",
      "[Voting] ...................... (2 of 5) Processing xgb, total=  49.9s\n",
      "[Voting] ....................... (3 of 5) Processing rf, total= 2.2min\n",
      "[Voting] .................. (4 of 5) Processing bagging, total= 6.9min\n",
      "[Voting] ...................... (5 of 5) Processing knn, total=   0.9s\n",
      "Train Score: 0.987305\n",
      "Accuracy: 0.982785\n",
      "F1-Score: 0.9827342702647963\n",
      "Precision: 0.9827363287815432\n",
      "Recall: 0.9827404065490741\n",
      "\n",
      "Croostab:\n"
     ]
    },
    {
     "data": {
      "text/html": [
       "<div>\n",
       "<style scoped>\n",
       "    .dataframe tbody tr th:only-of-type {\n",
       "        vertical-align: middle;\n",
       "    }\n",
       "\n",
       "    .dataframe tbody tr th {\n",
       "        vertical-align: top;\n",
       "    }\n",
       "\n",
       "    .dataframe thead th {\n",
       "        text-align: right;\n",
       "    }\n",
       "</style>\n",
       "<table border=\"1\" class=\"dataframe\">\n",
       "  <thead>\n",
       "    <tr style=\"text-align: right;\">\n",
       "      <th>Predicted Class</th>\n",
       "      <th>0%-10%</th>\n",
       "      <th>10%+</th>\n",
       "      <th>20%+</th>\n",
       "      <th>30%+</th>\n",
       "      <th>40%+</th>\n",
       "      <th>50%+</th>\n",
       "      <th>60%+</th>\n",
       "      <th>70%+</th>\n",
       "      <th>80%+</th>\n",
       "      <th>90%+</th>\n",
       "    </tr>\n",
       "    <tr>\n",
       "      <th>Real Class</th>\n",
       "      <th></th>\n",
       "      <th></th>\n",
       "      <th></th>\n",
       "      <th></th>\n",
       "      <th></th>\n",
       "      <th></th>\n",
       "      <th></th>\n",
       "      <th></th>\n",
       "      <th></th>\n",
       "      <th></th>\n",
       "    </tr>\n",
       "  </thead>\n",
       "  <tbody>\n",
       "    <tr>\n",
       "      <th>0%-10%</th>\n",
       "      <td>39838</td>\n",
       "      <td>164</td>\n",
       "      <td>2</td>\n",
       "      <td>1</td>\n",
       "      <td>4</td>\n",
       "      <td>0</td>\n",
       "      <td>0</td>\n",
       "      <td>0</td>\n",
       "      <td>0</td>\n",
       "      <td>0</td>\n",
       "    </tr>\n",
       "    <tr>\n",
       "      <th>10%+</th>\n",
       "      <td>81</td>\n",
       "      <td>40244</td>\n",
       "      <td>78</td>\n",
       "      <td>6</td>\n",
       "      <td>4</td>\n",
       "      <td>0</td>\n",
       "      <td>0</td>\n",
       "      <td>0</td>\n",
       "      <td>1</td>\n",
       "      <td>0</td>\n",
       "    </tr>\n",
       "    <tr>\n",
       "      <th>20%+</th>\n",
       "      <td>0</td>\n",
       "      <td>106</td>\n",
       "      <td>41056</td>\n",
       "      <td>576</td>\n",
       "      <td>12</td>\n",
       "      <td>4</td>\n",
       "      <td>1</td>\n",
       "      <td>0</td>\n",
       "      <td>0</td>\n",
       "      <td>0</td>\n",
       "    </tr>\n",
       "    <tr>\n",
       "      <th>30%+</th>\n",
       "      <td>0</td>\n",
       "      <td>5</td>\n",
       "      <td>478</td>\n",
       "      <td>36388</td>\n",
       "      <td>333</td>\n",
       "      <td>3</td>\n",
       "      <td>4</td>\n",
       "      <td>0</td>\n",
       "      <td>0</td>\n",
       "      <td>0</td>\n",
       "    </tr>\n",
       "    <tr>\n",
       "      <th>40%+</th>\n",
       "      <td>0</td>\n",
       "      <td>6</td>\n",
       "      <td>58</td>\n",
       "      <td>406</td>\n",
       "      <td>43512</td>\n",
       "      <td>435</td>\n",
       "      <td>11</td>\n",
       "      <td>6</td>\n",
       "      <td>1</td>\n",
       "      <td>0</td>\n",
       "    </tr>\n",
       "    <tr>\n",
       "      <th>50%+</th>\n",
       "      <td>0</td>\n",
       "      <td>0</td>\n",
       "      <td>0</td>\n",
       "      <td>2</td>\n",
       "      <td>389</td>\n",
       "      <td>35664</td>\n",
       "      <td>495</td>\n",
       "      <td>17</td>\n",
       "      <td>1</td>\n",
       "      <td>0</td>\n",
       "    </tr>\n",
       "    <tr>\n",
       "      <th>60%+</th>\n",
       "      <td>0</td>\n",
       "      <td>0</td>\n",
       "      <td>1</td>\n",
       "      <td>2</td>\n",
       "      <td>11</td>\n",
       "      <td>306</td>\n",
       "      <td>39217</td>\n",
       "      <td>617</td>\n",
       "      <td>5</td>\n",
       "      <td>6</td>\n",
       "    </tr>\n",
       "    <tr>\n",
       "      <th>70%+</th>\n",
       "      <td>0</td>\n",
       "      <td>0</td>\n",
       "      <td>0</td>\n",
       "      <td>1</td>\n",
       "      <td>4</td>\n",
       "      <td>13</td>\n",
       "      <td>749</td>\n",
       "      <td>38192</td>\n",
       "      <td>418</td>\n",
       "      <td>47</td>\n",
       "    </tr>\n",
       "    <tr>\n",
       "      <th>80%+</th>\n",
       "      <td>0</td>\n",
       "      <td>0</td>\n",
       "      <td>1</td>\n",
       "      <td>0</td>\n",
       "      <td>1</td>\n",
       "      <td>1</td>\n",
       "      <td>4</td>\n",
       "      <td>382</td>\n",
       "      <td>42687</td>\n",
       "      <td>276</td>\n",
       "    </tr>\n",
       "    <tr>\n",
       "      <th>90%+</th>\n",
       "      <td>0</td>\n",
       "      <td>0</td>\n",
       "      <td>0</td>\n",
       "      <td>0</td>\n",
       "      <td>0</td>\n",
       "      <td>0</td>\n",
       "      <td>31</td>\n",
       "      <td>14</td>\n",
       "      <td>306</td>\n",
       "      <td>36316</td>\n",
       "    </tr>\n",
       "  </tbody>\n",
       "</table>\n",
       "</div>"
      ],
      "text/plain": [
       "Predicted Class  0%-10%   10%+   20%+   30%+   40%+   50%+   60%+   70%+  \\\n",
       "Real Class                                                                 \n",
       "0%-10%            39838    164      2      1      4      0      0      0   \n",
       "10%+                 81  40244     78      6      4      0      0      0   \n",
       "20%+                  0    106  41056    576     12      4      1      0   \n",
       "30%+                  0      5    478  36388    333      3      4      0   \n",
       "40%+                  0      6     58    406  43512    435     11      6   \n",
       "50%+                  0      0      0      2    389  35664    495     17   \n",
       "60%+                  0      0      1      2     11    306  39217    617   \n",
       "70%+                  0      0      0      1      4     13    749  38192   \n",
       "80%+                  0      0      1      0      1      1      4    382   \n",
       "90%+                  0      0      0      0      0      0     31     14   \n",
       "\n",
       "Predicted Class   80%+   90%+  \n",
       "Real Class                     \n",
       "0%-10%               0      0  \n",
       "10%+                 1      0  \n",
       "20%+                 0      0  \n",
       "30%+                 0      0  \n",
       "40%+                 1      0  \n",
       "50%+                 1      0  \n",
       "60%+                 5      6  \n",
       "70%+               418     47  \n",
       "80%+             42687    276  \n",
       "90%+               306  36316  "
      ]
     },
     "metadata": {},
     "output_type": "display_data"
    },
    {
     "name": "stdout",
     "output_type": "stream",
     "text": [
      "\n",
      "Classification report:\n",
      "              precision    recall  f1-score   support\n",
      "\n",
      "           0       1.00      1.00      1.00     40009\n",
      "           1       0.99      1.00      0.99     40414\n",
      "           2       0.99      0.98      0.98     41755\n",
      "           3       0.97      0.98      0.98     37211\n",
      "           4       0.98      0.98      0.98     44435\n",
      "           5       0.98      0.98      0.98     36568\n",
      "           6       0.97      0.98      0.97     40165\n",
      "           7       0.97      0.97      0.97     39424\n",
      "           8       0.98      0.98      0.98     43352\n",
      "           9       0.99      0.99      0.99     36667\n",
      "\n",
      "    accuracy                           0.98    400000\n",
      "   macro avg       0.98      0.98      0.98    400000\n",
      "weighted avg       0.98      0.98      0.98    400000\n",
      "\n"
     ]
    }
   ],
   "source": [
    "X_train_scaled, X_test_scaled, y_train, y_test = scale_train_test_split(df_numeric.sample(n=2000000))\n",
    "vclf = VotingClassifier(estimators=[('dtc_ac', ac_best) ,('xgb', xgb_best), ('rf', rf_best), ('bagging', bag_best), ('knn', knn_clf)], voting='soft', verbose=True)\n",
    "vclf.fit(X_train_scaled,y_train)\n",
    "\n",
    "print('Train Score:',vclf.score(X_train_scaled, y_train))\n",
    "\n",
    "y_pred = vclf.predict(X_test_scaled)\n",
    "show_scores(y_test,y_pred)\n",
    "display_ct(y_test, y_pred)"
   ]
  },
  {
   "cell_type": "markdown",
   "id": "dbea078e-504d-4c8c-9d85-cddf147f842e",
   "metadata": {},
   "source": [
    "--------------------------------------"
   ]
  },
  {
   "cell_type": "code",
   "execution_count": 29,
   "id": "22668e82-102c-4ebc-824b-d42aaf7db5f8",
   "metadata": {},
   "outputs": [],
   "source": [
    "import pickle\n",
    "\n",
    "# save the bag_best classification model as a pickle file\n",
    "model_pkl_file = \"bagging.pkl\"  \n",
    "\n",
    "with open(model_pkl_file, 'wb') as file:  \n",
    "    pickle.dump(bag_best, file)\n",
    "    \n"
   ]
  },
  {
   "cell_type": "code",
   "execution_count": null,
   "id": "561f1964-fd9a-41d7-a307-035c5783acff",
   "metadata": {},
   "outputs": [],
   "source": [
    "# # load model from pickle file\n",
    "# model_pkl_file = \"bagging.pkl\"\n",
    "\n",
    "# with open(model_pkl_file, 'rb') as file:  \n",
    "#     bag_best = pickle.load(file)"
   ]
  }
 ],
 "metadata": {
  "kernelspec": {
   "display_name": "Python 3 (ipykernel)",
   "language": "python",
   "name": "python3"
  },
  "language_info": {
   "codemirror_mode": {
    "name": "ipython",
    "version": 3
   },
   "file_extension": ".py",
   "mimetype": "text/x-python",
   "name": "python",
   "nbconvert_exporter": "python",
   "pygments_lexer": "ipython3",
   "version": "3.12.2"
  }
 },
 "nbformat": 4,
 "nbformat_minor": 5
}
